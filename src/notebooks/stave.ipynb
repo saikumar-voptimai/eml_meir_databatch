{
 "cells": [
  {
   "cell_type": "code",
   "execution_count": null,
   "metadata": {},
   "outputs": [
    {
     "ename": "",
     "evalue": "",
     "output_type": "error",
     "traceback": [
      "\u001b[1;31mThe kernel failed to start as a dll could not be loaded.\n",
      "\u001b[1;31mClick <a href='https://aka.ms/kernelFailuresDllLoad'>here</a> for more info."
     ]
    }
   ],
   "source": [
    "from selenium import webdriver\n",
    "from selenium.webdriver.chrome.service import Service\n",
    "from webdriver_manager.chrome import ChromeDriverManager\n",
    "from selenium.webdriver.common.by import By\n",
    "from selenium.webdriver.support.ui import WebDriverWait\n",
    "from selenium.webdriver.support import expected_conditions as EC\n",
    "import time\n",
    "\n",
    "# Setup Selenium WebDriver\n",
    "service = Service(ChromeDriverManager().install())\n",
    "driver = webdriver.Chrome(service=service)\n",
    "\n",
    "# Open the web page\n",
    "driver.get(\"https://mcartalert.com/MeirCharts.aspx\")\n",
    "\n",
    "# Simulate interactions\n",
    "driver.find_element_by_id(\"date-start\").send_keys(\"2024-08-02\")\n",
    "driver.find_element_by_id(\"date-end\").send_keys(\"2024-08-03\")\n",
    "driver.find_element_by_id(\"apply-button\").click()\n",
    "\n",
    "# Allow time for the data to load\n",
    "time.sleep(5)\n",
    "\n",
    "# Capture the data\n",
    "data = driver.find_element_by_id(\"data-container\").text  # Adjust the ID based on actual elements\n",
    "print(data)\n",
    "\n",
    "# Close the driver\n",
    "driver.quit()\n"
   ]
  }
 ],
 "metadata": {
  "kernelspec": {
   "display_name": "stave-proj-Q66UiFZ3-py3.9",
   "language": "python",
   "name": "python3"
  },
  "language_info": {
   "name": "python",
   "version": "3.9.12"
  }
 },
 "nbformat": 4,
 "nbformat_minor": 2
}
